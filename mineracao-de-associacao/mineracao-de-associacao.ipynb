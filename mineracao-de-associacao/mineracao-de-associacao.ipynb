{
 "cells": [
  {
   "cell_type": "code",
   "execution_count": 2,
   "metadata": {},
   "outputs": [],
   "source": [
    "import pandas as pd\n",
    "from apyori import apriori"
   ]
  },
  {
   "cell_type": "code",
   "execution_count": 3,
   "metadata": {},
   "outputs": [],
   "source": [
    "df = pd.read_csv('./data/compras.csv')"
   ]
  },
  {
   "cell_type": "code",
   "execution_count": 4,
   "metadata": {},
   "outputs": [
    {
     "data": {
      "text/html": [
       "<div>\n",
       "<style scoped>\n",
       "    .dataframe tbody tr th:only-of-type {\n",
       "        vertical-align: middle;\n",
       "    }\n",
       "\n",
       "    .dataframe tbody tr th {\n",
       "        vertical-align: top;\n",
       "    }\n",
       "\n",
       "    .dataframe thead th {\n",
       "        text-align: right;\n",
       "    }\n",
       "</style>\n",
       "<table border=\"1\" class=\"dataframe\">\n",
       "  <thead>\n",
       "    <tr style=\"text-align: right;\">\n",
       "      <th></th>\n",
       "      <th>cliente</th>\n",
       "      <th>0</th>\n",
       "      <th>1</th>\n",
       "      <th>2</th>\n",
       "      <th>3</th>\n",
       "      <th>4</th>\n",
       "      <th>5</th>\n",
       "      <th>6</th>\n",
       "      <th>7</th>\n",
       "      <th>8</th>\n",
       "      <th>9</th>\n",
       "      <th>10</th>\n",
       "      <th>11</th>\n",
       "      <th>12</th>\n",
       "      <th>13</th>\n",
       "      <th>14</th>\n",
       "      <th>15</th>\n",
       "      <th>16</th>\n",
       "      <th>17</th>\n",
       "    </tr>\n",
       "  </thead>\n",
       "  <tbody>\n",
       "    <tr>\n",
       "      <th>0</th>\n",
       "      <td>JÚLIO DEMARQUE</td>\n",
       "      <td>limão</td>\n",
       "      <td>peito de peru</td>\n",
       "      <td>manga</td>\n",
       "      <td>cerveja</td>\n",
       "      <td>picanha</td>\n",
       "      <td>carvão</td>\n",
       "      <td>sal</td>\n",
       "      <td>linguiça</td>\n",
       "      <td>mel</td>\n",
       "      <td>geleia</td>\n",
       "      <td>cereal</td>\n",
       "      <td>NaN</td>\n",
       "      <td>NaN</td>\n",
       "      <td>NaN</td>\n",
       "      <td>NaN</td>\n",
       "      <td>NaN</td>\n",
       "      <td>NaN</td>\n",
       "      <td>NaN</td>\n",
       "    </tr>\n",
       "    <tr>\n",
       "      <th>1</th>\n",
       "      <td>MAYCON SOARES</td>\n",
       "      <td>salsicha</td>\n",
       "      <td>cerveja</td>\n",
       "      <td>picanha</td>\n",
       "      <td>catchup</td>\n",
       "      <td>geleia</td>\n",
       "      <td>cebola</td>\n",
       "      <td>NaN</td>\n",
       "      <td>NaN</td>\n",
       "      <td>NaN</td>\n",
       "      <td>NaN</td>\n",
       "      <td>NaN</td>\n",
       "      <td>NaN</td>\n",
       "      <td>NaN</td>\n",
       "      <td>NaN</td>\n",
       "      <td>NaN</td>\n",
       "      <td>NaN</td>\n",
       "      <td>NaN</td>\n",
       "      <td>NaN</td>\n",
       "    </tr>\n",
       "    <tr>\n",
       "      <th>2</th>\n",
       "      <td>WEMERSON NETO</td>\n",
       "      <td>queijo</td>\n",
       "      <td>frutas</td>\n",
       "      <td>chá</td>\n",
       "      <td>alface</td>\n",
       "      <td>granola</td>\n",
       "      <td>feijão</td>\n",
       "      <td>farinha de trigo</td>\n",
       "      <td>suco de laranja</td>\n",
       "      <td>NaN</td>\n",
       "      <td>NaN</td>\n",
       "      <td>NaN</td>\n",
       "      <td>NaN</td>\n",
       "      <td>NaN</td>\n",
       "      <td>NaN</td>\n",
       "      <td>NaN</td>\n",
       "      <td>NaN</td>\n",
       "      <td>NaN</td>\n",
       "      <td>NaN</td>\n",
       "    </tr>\n",
       "    <tr>\n",
       "      <th>3</th>\n",
       "      <td>JOÃO DEMARQUE</td>\n",
       "      <td>pimenta</td>\n",
       "      <td>sardinha enlatada</td>\n",
       "      <td>barra de cereal</td>\n",
       "      <td>molho de tomate</td>\n",
       "      <td>gelatina</td>\n",
       "      <td>vinho branco</td>\n",
       "      <td>pão</td>\n",
       "      <td>tempero pronto</td>\n",
       "      <td>vinho tinto</td>\n",
       "      <td>presunto</td>\n",
       "      <td>arroz</td>\n",
       "      <td>feijão</td>\n",
       "      <td>NaN</td>\n",
       "      <td>NaN</td>\n",
       "      <td>NaN</td>\n",
       "      <td>NaN</td>\n",
       "      <td>NaN</td>\n",
       "      <td>NaN</td>\n",
       "    </tr>\n",
       "    <tr>\n",
       "      <th>4</th>\n",
       "      <td>MAYCON SANTOS</td>\n",
       "      <td>detergente</td>\n",
       "      <td>filé de frango</td>\n",
       "      <td>arroz</td>\n",
       "      <td>feijão</td>\n",
       "      <td>limão</td>\n",
       "      <td>papel higiênico</td>\n",
       "      <td>presunto</td>\n",
       "      <td>farinha de trigo</td>\n",
       "      <td>salada</td>\n",
       "      <td>alface</td>\n",
       "      <td>cenoura</td>\n",
       "      <td>NaN</td>\n",
       "      <td>NaN</td>\n",
       "      <td>NaN</td>\n",
       "      <td>NaN</td>\n",
       "      <td>NaN</td>\n",
       "      <td>NaN</td>\n",
       "      <td>NaN</td>\n",
       "    </tr>\n",
       "  </tbody>\n",
       "</table>\n",
       "</div>"
      ],
      "text/plain": [
       "          cliente           0                  1                2  \\\n",
       "0  JÚLIO DEMARQUE       limão      peito de peru            manga   \n",
       "1   MAYCON SOARES    salsicha            cerveja          picanha   \n",
       "2   WEMERSON NETO      queijo             frutas              chá   \n",
       "3   JOÃO DEMARQUE     pimenta  sardinha enlatada  barra de cereal   \n",
       "4   MAYCON SANTOS  detergente     filé de frango            arroz   \n",
       "\n",
       "                 3         4                5                 6  \\\n",
       "0          cerveja   picanha           carvão               sal   \n",
       "1          catchup    geleia           cebola               NaN   \n",
       "2           alface   granola           feijão  farinha de trigo   \n",
       "3  molho de tomate  gelatina     vinho branco               pão   \n",
       "4           feijão     limão  papel higiênico          presunto   \n",
       "\n",
       "                  7            8         9       10      11   12   13   14  \\\n",
       "0          linguiça          mel    geleia   cereal     NaN  NaN  NaN  NaN   \n",
       "1               NaN          NaN       NaN      NaN     NaN  NaN  NaN  NaN   \n",
       "2   suco de laranja          NaN       NaN      NaN     NaN  NaN  NaN  NaN   \n",
       "3    tempero pronto  vinho tinto  presunto    arroz  feijão  NaN  NaN  NaN   \n",
       "4  farinha de trigo       salada    alface  cenoura     NaN  NaN  NaN  NaN   \n",
       "\n",
       "    15   16   17  \n",
       "0  NaN  NaN  NaN  \n",
       "1  NaN  NaN  NaN  \n",
       "2  NaN  NaN  NaN  \n",
       "3  NaN  NaN  NaN  \n",
       "4  NaN  NaN  NaN  "
      ]
     },
     "execution_count": 4,
     "metadata": {},
     "output_type": "execute_result"
    }
   ],
   "source": [
    "df.head()"
   ]
  },
  {
   "cell_type": "code",
   "execution_count": 7,
   "metadata": {},
   "outputs": [],
   "source": [
    "new_df = df.drop(['cliente'], axis=1)"
   ]
  },
  {
   "cell_type": "code",
   "execution_count": 8,
   "metadata": {},
   "outputs": [
    {
     "data": {
      "text/html": [
       "<div>\n",
       "<style scoped>\n",
       "    .dataframe tbody tr th:only-of-type {\n",
       "        vertical-align: middle;\n",
       "    }\n",
       "\n",
       "    .dataframe tbody tr th {\n",
       "        vertical-align: top;\n",
       "    }\n",
       "\n",
       "    .dataframe thead th {\n",
       "        text-align: right;\n",
       "    }\n",
       "</style>\n",
       "<table border=\"1\" class=\"dataframe\">\n",
       "  <thead>\n",
       "    <tr style=\"text-align: right;\">\n",
       "      <th></th>\n",
       "      <th>0</th>\n",
       "      <th>1</th>\n",
       "      <th>2</th>\n",
       "      <th>3</th>\n",
       "      <th>4</th>\n",
       "      <th>5</th>\n",
       "      <th>6</th>\n",
       "      <th>7</th>\n",
       "      <th>8</th>\n",
       "      <th>9</th>\n",
       "      <th>10</th>\n",
       "      <th>11</th>\n",
       "      <th>12</th>\n",
       "      <th>13</th>\n",
       "      <th>14</th>\n",
       "      <th>15</th>\n",
       "      <th>16</th>\n",
       "      <th>17</th>\n",
       "    </tr>\n",
       "  </thead>\n",
       "  <tbody>\n",
       "    <tr>\n",
       "      <th>0</th>\n",
       "      <td>limão</td>\n",
       "      <td>peito de peru</td>\n",
       "      <td>manga</td>\n",
       "      <td>cerveja</td>\n",
       "      <td>picanha</td>\n",
       "      <td>carvão</td>\n",
       "      <td>sal</td>\n",
       "      <td>linguiça</td>\n",
       "      <td>mel</td>\n",
       "      <td>geleia</td>\n",
       "      <td>cereal</td>\n",
       "      <td>NaN</td>\n",
       "      <td>NaN</td>\n",
       "      <td>NaN</td>\n",
       "      <td>NaN</td>\n",
       "      <td>NaN</td>\n",
       "      <td>NaN</td>\n",
       "      <td>NaN</td>\n",
       "    </tr>\n",
       "    <tr>\n",
       "      <th>1</th>\n",
       "      <td>salsicha</td>\n",
       "      <td>cerveja</td>\n",
       "      <td>picanha</td>\n",
       "      <td>catchup</td>\n",
       "      <td>geleia</td>\n",
       "      <td>cebola</td>\n",
       "      <td>NaN</td>\n",
       "      <td>NaN</td>\n",
       "      <td>NaN</td>\n",
       "      <td>NaN</td>\n",
       "      <td>NaN</td>\n",
       "      <td>NaN</td>\n",
       "      <td>NaN</td>\n",
       "      <td>NaN</td>\n",
       "      <td>NaN</td>\n",
       "      <td>NaN</td>\n",
       "      <td>NaN</td>\n",
       "      <td>NaN</td>\n",
       "    </tr>\n",
       "    <tr>\n",
       "      <th>2</th>\n",
       "      <td>queijo</td>\n",
       "      <td>frutas</td>\n",
       "      <td>chá</td>\n",
       "      <td>alface</td>\n",
       "      <td>granola</td>\n",
       "      <td>feijão</td>\n",
       "      <td>farinha de trigo</td>\n",
       "      <td>suco de laranja</td>\n",
       "      <td>NaN</td>\n",
       "      <td>NaN</td>\n",
       "      <td>NaN</td>\n",
       "      <td>NaN</td>\n",
       "      <td>NaN</td>\n",
       "      <td>NaN</td>\n",
       "      <td>NaN</td>\n",
       "      <td>NaN</td>\n",
       "      <td>NaN</td>\n",
       "      <td>NaN</td>\n",
       "    </tr>\n",
       "    <tr>\n",
       "      <th>3</th>\n",
       "      <td>pimenta</td>\n",
       "      <td>sardinha enlatada</td>\n",
       "      <td>barra de cereal</td>\n",
       "      <td>molho de tomate</td>\n",
       "      <td>gelatina</td>\n",
       "      <td>vinho branco</td>\n",
       "      <td>pão</td>\n",
       "      <td>tempero pronto</td>\n",
       "      <td>vinho tinto</td>\n",
       "      <td>presunto</td>\n",
       "      <td>arroz</td>\n",
       "      <td>feijão</td>\n",
       "      <td>NaN</td>\n",
       "      <td>NaN</td>\n",
       "      <td>NaN</td>\n",
       "      <td>NaN</td>\n",
       "      <td>NaN</td>\n",
       "      <td>NaN</td>\n",
       "    </tr>\n",
       "    <tr>\n",
       "      <th>4</th>\n",
       "      <td>detergente</td>\n",
       "      <td>filé de frango</td>\n",
       "      <td>arroz</td>\n",
       "      <td>feijão</td>\n",
       "      <td>limão</td>\n",
       "      <td>papel higiênico</td>\n",
       "      <td>presunto</td>\n",
       "      <td>farinha de trigo</td>\n",
       "      <td>salada</td>\n",
       "      <td>alface</td>\n",
       "      <td>cenoura</td>\n",
       "      <td>NaN</td>\n",
       "      <td>NaN</td>\n",
       "      <td>NaN</td>\n",
       "      <td>NaN</td>\n",
       "      <td>NaN</td>\n",
       "      <td>NaN</td>\n",
       "      <td>NaN</td>\n",
       "    </tr>\n",
       "  </tbody>\n",
       "</table>\n",
       "</div>"
      ],
      "text/plain": [
       "            0                  1                2                3         4  \\\n",
       "0       limão      peito de peru            manga          cerveja   picanha   \n",
       "1    salsicha            cerveja          picanha          catchup    geleia   \n",
       "2      queijo             frutas              chá           alface   granola   \n",
       "3     pimenta  sardinha enlatada  barra de cereal  molho de tomate  gelatina   \n",
       "4  detergente     filé de frango            arroz           feijão     limão   \n",
       "\n",
       "                 5                 6                 7            8         9  \\\n",
       "0           carvão               sal          linguiça          mel    geleia   \n",
       "1           cebola               NaN               NaN          NaN       NaN   \n",
       "2           feijão  farinha de trigo   suco de laranja          NaN       NaN   \n",
       "3     vinho branco               pão    tempero pronto  vinho tinto  presunto   \n",
       "4  papel higiênico          presunto  farinha de trigo       salada    alface   \n",
       "\n",
       "        10      11   12   13   14   15   16   17  \n",
       "0   cereal     NaN  NaN  NaN  NaN  NaN  NaN  NaN  \n",
       "1      NaN     NaN  NaN  NaN  NaN  NaN  NaN  NaN  \n",
       "2      NaN     NaN  NaN  NaN  NaN  NaN  NaN  NaN  \n",
       "3    arroz  feijão  NaN  NaN  NaN  NaN  NaN  NaN  \n",
       "4  cenoura     NaN  NaN  NaN  NaN  NaN  NaN  NaN  "
      ]
     },
     "execution_count": 8,
     "metadata": {},
     "output_type": "execute_result"
    }
   ],
   "source": [
    "new_df.head()"
   ]
  },
  {
   "cell_type": "code",
   "execution_count": 10,
   "metadata": {},
   "outputs": [
    {
     "name": "stdout",
     "output_type": "stream",
     "text": [
      "queijo        1241\n",
      "presunto      1129\n",
      "pão           1056\n",
      "feijão        1040\n",
      "picanha        869\n",
      "              ... \n",
      "cebola         353\n",
      "hambúrguer     352\n",
      "kiwi           352\n",
      "gelatina       348\n",
      "biscoito       336\n",
      "Name: count, Length: 105, dtype: int64\n"
     ]
    }
   ],
   "source": [
    "itens_mais_comprados =  new_df.stack().value_counts()\n",
    "print(itens_mais_comprados)"
   ]
  },
  {
   "cell_type": "code",
   "execution_count": 15,
   "metadata": {},
   "outputs": [
    {
     "data": {
      "text/plain": [
       "array(['limão', 'peito de peru', 'manga', 'cerveja', 'picanha', 'carvão',\n",
       "       'sal', 'linguiça', 'mel', 'geleia', 'cereal', 'salsicha',\n",
       "       'catchup', 'cebola', 'queijo', 'frutas', 'chá', 'alface',\n",
       "       'granola', 'feijão', 'farinha de trigo', 'suco de laranja',\n",
       "       'pimenta', 'sardinha enlatada', 'barra de cereal',\n",
       "       'molho de tomate', 'gelatina', 'vinho branco', 'pão',\n",
       "       'tempero pronto', 'vinho tinto', 'presunto', 'arroz', 'detergente',\n",
       "       'filé de frango', 'papel higiênico', 'salada', 'cenoura',\n",
       "       'maionese', 'molho branco', 'whisky', 'pudim', 'suco', 'azeitona',\n",
       "       'frango', 'mostarda', 'carne moída', 'nhoque', 'água de coco',\n",
       "       'laranja', 'cerveja artesanal', 'massa de pizza', 'biscoito',\n",
       "       'morango', 'bisnaguinha', 'kiwi', 'achocolatado', 'sabão',\n",
       "       'torrada', 'banana', 'palmito', 'desinfetante', 'sopa pronta',\n",
       "       'ervilha', 'hambúrguer', 'batata frita', 'refrigerante',\n",
       "       'queijo ralado', 'uva', 'óleo de soja', 'vodka', 'batata', 'bolo',\n",
       "       'açúcar', 'café', 'leite', 'atum enlatado', 'tomate', 'manteiga',\n",
       "       'vinagre', 'pepino', 'molho pesto', 'água tônica', 'macarrão',\n",
       "       'peixe', 'energético', 'castanhas', 'espumante', 'alho',\n",
       "       'cogumelo', 'chocolate', 'patê', 'sorvete', 'verduras', 'maçã',\n",
       "       'farinha de mandioca', 'azeite', 'pizza', 'milho verde', 'abacaxi',\n",
       "       'lasanha', 'amendoim', 'iogurte', 'nutella', 'vinho'], dtype=object)"
      ]
     },
     "execution_count": 15,
     "metadata": {},
     "output_type": "execute_result"
    }
   ],
   "source": [
    "new_df.stack().unique()"
   ]
  },
  {
   "cell_type": "code",
   "execution_count": 27,
   "metadata": {},
   "outputs": [
    {
     "data": {
      "text/plain": [
       "18"
      ]
     },
     "execution_count": 27,
     "metadata": {},
     "output_type": "execute_result"
    }
   ],
   "source": [
    "new_df.shape[1]"
   ]
  },
  {
   "cell_type": "code",
   "execution_count": 28,
   "metadata": {},
   "outputs": [],
   "source": [
    "transactions = []\n",
    "for i in range(0,new_df.shape[0]):\n",
    "    transactions.append([str(new_df.values[i,j])for j in range(0,new_df.shape[1])])"
   ]
  },
  {
   "cell_type": "code",
   "execution_count": 37,
   "metadata": {},
   "outputs": [],
   "source": [
    "regras = apriori(transactions=transactions, min_support=0.003, min_confidence=0.2, min_lift=3, min_length=2, max_length=2)"
   ]
  },
  {
   "cell_type": "code",
   "execution_count": 38,
   "metadata": {},
   "outputs": [
    {
     "name": "stdout",
     "output_type": "stream",
     "text": [
      "[RelationRecord(items=frozenset({'alface', 'azeite'}), support=0.0104, ordered_statistics=[OrderedStatistic(items_base=frozenset({'azeite'}), items_add=frozenset({'alface'}), confidence=0.20392156862745098, lift=3.3594986594308236)]), RelationRecord(items=frozenset({'alface', 'cenoura'}), support=0.0129, ordered_statistics=[OrderedStatistic(items_base=frozenset({'alface'}), items_add=frozenset({'cenoura'}), confidence=0.21252059308072488, lift=3.885202798550729), OrderedStatistic(items_base=frozenset({'cenoura'}), items_add=frozenset({'alface'}), confidence=0.23583180987202926, lift=3.885202798550729)]), RelationRecord(items=frozenset({'salada', 'alface'}), support=0.0254, ordered_statistics=[OrderedStatistic(items_base=frozenset({'alface'}), items_add=frozenset({'salada'}), confidence=0.4184514003294893, lift=5.096850186717287), OrderedStatistic(items_base=frozenset({'salada'}), items_add=frozenset({'alface'}), confidence=0.3093788063337393, lift=5.096850186717287)]), RelationRecord(items=frozenset({'alface', 'tomate'}), support=0.016, ordered_statistics=[OrderedStatistic(items_base=frozenset({'alface'}), items_add=frozenset({'tomate'}), confidence=0.2635914332784185, lift=4.624411110147693), OrderedStatistic(items_base=frozenset({'tomate'}), items_add=frozenset({'alface'}), confidence=0.2807017543859649, lift=4.624411110147692)]), RelationRecord(items=frozenset({'alface', 'vinagre'}), support=0.0098, ordered_statistics=[OrderedStatistic(items_base=frozenset({'vinagre'}), items_add=frozenset({'alface'}), confidence=0.20851063829787234, lift=3.435101125170879)]), RelationRecord(items=frozenset({'arroz', 'feijão'}), support=0.0544, ordered_statistics=[OrderedStatistic(items_base=frozenset({'arroz'}), items_add=frozenset({'feijão'}), confidence=0.6384976525821596, lift=6.223174001775435), OrderedStatistic(items_base=frozenset({'feijão'}), items_add=frozenset({'arroz'}), confidence=0.530214424951267, lift=6.223174001775435)]), RelationRecord(items=frozenset({'arroz', 'filé de frango'}), support=0.0249, ordered_statistics=[OrderedStatistic(items_base=frozenset({'arroz'}), items_add=frozenset({'filé de frango'}), confidence=0.29225352112676056, lift=7.731574632983084), OrderedStatistic(items_base=frozenset({'filé de frango'}), items_add=frozenset({'arroz'}), confidence=0.6587301587301587, lift=7.731574632983084)]), RelationRecord(items=frozenset({'arroz', 'frango'}), support=0.0425, ordered_statistics=[OrderedStatistic(items_base=frozenset({'arroz'}), items_add=frozenset({'frango'}), confidence=0.49882629107981225, lift=8.813185354767), OrderedStatistic(items_base=frozenset({'frango'}), items_add=frozenset({'arroz'}), confidence=0.7508833922261485, lift=8.813185354767002)]), RelationRecord(items=frozenset({'arroz', 'salada'}), support=0.0382, ordered_statistics=[OrderedStatistic(items_base=frozenset({'arroz'}), items_add=frozenset({'salada'}), confidence=0.44835680751173707, lift=5.461106059826273), OrderedStatistic(items_base=frozenset({'salada'}), items_add=frozenset({'arroz'}), confidence=0.46528623629719845, lift=5.461106059826273)]), RelationRecord(items=frozenset({'cenoura', 'azeite'}), support=0.0115, ordered_statistics=[OrderedStatistic(items_base=frozenset({'azeite'}), items_add=frozenset({'cenoura'}), confidence=0.22549019607843138, lift=4.122307058106607), OrderedStatistic(items_base=frozenset({'cenoura'}), items_add=frozenset({'azeite'}), confidence=0.21023765996343693, lift=4.122307058106607)]), RelationRecord(items=frozenset({'salada', 'azeite'}), support=0.0151, ordered_statistics=[OrderedStatistic(items_base=frozenset({'azeite'}), items_add=frozenset({'salada'}), confidence=0.296078431372549, lift=3.606314633039574)]), RelationRecord(items=frozenset({'azeite', 'tomate'}), support=0.0111, ordered_statistics=[OrderedStatistic(items_base=frozenset({'azeite'}), items_add=frozenset({'tomate'}), confidence=0.21764705882352944, lift=3.818369453044376)]), RelationRecord(items=frozenset({'azeite', 'vinagre'}), support=0.0107, ordered_statistics=[OrderedStatistic(items_base=frozenset({'azeite'}), items_add=frozenset({'vinagre'}), confidence=0.20980392156862746, lift=4.463913224864414), OrderedStatistic(items_base=frozenset({'vinagre'}), items_add=frozenset({'azeite'}), confidence=0.2276595744680851, lift=4.463913224864414)]), RelationRecord(items=frozenset({'açúcar', 'bolo'}), support=0.016, ordered_statistics=[OrderedStatistic(items_base=frozenset({'açúcar'}), items_add=frozenset({'bolo'}), confidence=0.25641025641025644, lift=3.6525677551318583), OrderedStatistic(items_base=frozenset({'bolo'}), items_add=frozenset({'açúcar'}), confidence=0.22792022792022792, lift=3.652567755131858)]), RelationRecord(items=frozenset({'açúcar', 'café'}), support=0.0238, ordered_statistics=[OrderedStatistic(items_base=frozenset({'açúcar'}), items_add=frozenset({'café'}), confidence=0.38141025641025644, lift=10.198135198135198), OrderedStatistic(items_base=frozenset({'café'}), items_add=frozenset({'açúcar'}), confidence=0.6363636363636364, lift=10.198135198135198)]), RelationRecord(items=frozenset({'açúcar', 'leite'}), support=0.0138, ordered_statistics=[OrderedStatistic(items_base=frozenset({'açúcar'}), items_add=frozenset({'leite'}), confidence=0.22115384615384617, lift=3.128060058753128)]), RelationRecord(items=frozenset({'catchup', 'batata frita'}), support=0.013, ordered_statistics=[OrderedStatistic(items_base=frozenset({'batata frita'}), items_add=frozenset({'catchup'}), confidence=0.21666666666666667, lift=4.215304798962387), OrderedStatistic(items_base=frozenset({'catchup'}), items_add=frozenset({'batata frita'}), confidence=0.2529182879377432, lift=4.215304798962387)]), RelationRecord(items=frozenset({'cerveja', 'batata frita'}), support=0.0141, ordered_statistics=[OrderedStatistic(items_base=frozenset({'batata frita'}), items_add=frozenset({'cerveja'}), confidence=0.23500000000000001, lift=3.1167108753315653)]), RelationRecord(items=frozenset({'hambúrguer', 'batata frita'}), support=0.0229, ordered_statistics=[OrderedStatistic(items_base=frozenset({'batata frita'}), items_add=frozenset({'hambúrguer'}), confidence=0.3816666666666667, lift=10.967432950191572), OrderedStatistic(items_base=frozenset({'hambúrguer'}), items_add=frozenset({'batata frita'}), confidence=0.6580459770114943, lift=10.967432950191572)]), RelationRecord(items=frozenset({'café', 'bolo'}), support=0.0189, ordered_statistics=[OrderedStatistic(items_base=frozenset({'bolo'}), items_add=frozenset({'café'}), confidence=0.2692307692307692, lift=7.198683669271904), OrderedStatistic(items_base=frozenset({'café'}), items_add=frozenset({'bolo'}), confidence=0.5053475935828877, lift=7.198683669271905)]), RelationRecord(items=frozenset({'suco de laranja', 'bolo'}), support=0.0178, ordered_statistics=[OrderedStatistic(items_base=frozenset({'bolo'}), items_add=frozenset({'suco de laranja'}), confidence=0.2535612535612536, lift=6.354918635620391), OrderedStatistic(items_base=frozenset({'suco de laranja'}), items_add=frozenset({'bolo'}), confidence=0.4461152882205514, lift=6.354918635620391)]), RelationRecord(items=frozenset({'café', 'leite'}), support=0.0157, ordered_statistics=[OrderedStatistic(items_base=frozenset({'café'}), items_add=frozenset({'leite'}), confidence=0.41978609625668445, lift=5.937568546770643), OrderedStatistic(items_base=frozenset({'leite'}), items_add=frozenset({'café'}), confidence=0.22206506364922204, lift=5.937568546770643)]), RelationRecord(items=frozenset({'carvão', 'cerveja'}), support=0.0407, ordered_statistics=[OrderedStatistic(items_base=frozenset({'carvão'}), items_add=frozenset({'cerveja'}), confidence=0.673841059602649, lift=8.93688407961073), OrderedStatistic(items_base=frozenset({'cerveja'}), items_add=frozenset({'carvão'}), confidence=0.5397877984084881, lift=8.93688407961073)]), RelationRecord(items=frozenset({'carvão', 'picanha'}), support=0.0397, ordered_statistics=[OrderedStatistic(items_base=frozenset({'carvão'}), items_add=frozenset({'picanha'}), confidence=0.6572847682119205, lift=7.678560376307483), OrderedStatistic(items_base=frozenset({'picanha'}), items_add=frozenset({'carvão'}), confidence=0.463785046728972, lift=7.678560376307483)]), RelationRecord(items=frozenset({'carvão', 'salsicha'}), support=0.0285, ordered_statistics=[OrderedStatistic(items_base=frozenset({'carvão'}), items_add=frozenset({'salsicha'}), confidence=0.4718543046357616, lift=7.032105881307922), OrderedStatistic(items_base=frozenset({'salsicha'}), items_add=frozenset({'carvão'}), confidence=0.42473919523099846, lift=7.032105881307921)]), RelationRecord(items=frozenset({'carvão', 'vodka'}), support=0.0152, ordered_statistics=[OrderedStatistic(items_base=frozenset({'carvão'}), items_add=frozenset({'vodka'}), confidence=0.25165562913907286, lift=5.023066449881694), OrderedStatistic(items_base=frozenset({'vodka'}), items_add=frozenset({'carvão'}), confidence=0.3033932135728543, lift=5.023066449881694)]), RelationRecord(items=frozenset({'hambúrguer', 'catchup'}), support=0.0145, ordered_statistics=[OrderedStatistic(items_base=frozenset({'catchup'}), items_add=frozenset({'hambúrguer'}), confidence=0.2821011673151751, lift=8.106355382619974), OrderedStatistic(items_base=frozenset({'hambúrguer'}), items_add=frozenset({'catchup'}), confidence=0.41666666666666674, lift=8.106355382619975)]), RelationRecord(items=frozenset({'mostarda', 'catchup'}), support=0.0106, ordered_statistics=[OrderedStatistic(items_base=frozenset({'catchup'}), items_add=frozenset({'mostarda'}), confidence=0.20622568093385213, lift=4.473442102686597), OrderedStatistic(items_base=frozenset({'mostarda'}), items_add=frozenset({'catchup'}), confidence=0.2299349240780911, lift=4.473442102686597)]), RelationRecord(items=frozenset({'salada', 'cenoura'}), support=0.0179, ordered_statistics=[OrderedStatistic(items_base=frozenset({'cenoura'}), items_add=frozenset({'salada'}), confidence=0.3272394881170018, lift=3.985864654287476), OrderedStatistic(items_base=frozenset({'salada'}), items_add=frozenset({'cenoura'}), confidence=0.21802679658952495, lift=3.9858646542874765)]), RelationRecord(items=frozenset({'cenoura', 'tomate'}), support=0.0126, ordered_statistics=[OrderedStatistic(items_base=frozenset({'cenoura'}), items_add=frozenset({'tomate'}), confidence=0.2303473491773309, lift=4.041181564514577), OrderedStatistic(items_base=frozenset({'tomate'}), items_add=frozenset({'cenoura'}), confidence=0.22105263157894736, lift=4.041181564514577)]), RelationRecord(items=frozenset({'cenoura', 'vinagre'}), support=0.0098, ordered_statistics=[OrderedStatistic(items_base=frozenset({'vinagre'}), items_add=frozenset({'cenoura'}), confidence=0.20851063829787234, lift=3.8118946672371545)]), RelationRecord(items=frozenset({'hambúrguer', 'cerveja'}), support=0.0171, ordered_statistics=[OrderedStatistic(items_base=frozenset({'cerveja'}), items_add=frozenset({'hambúrguer'}), confidence=0.226790450928382, lift=6.516966980700632), OrderedStatistic(items_base=frozenset({'hambúrguer'}), items_add=frozenset({'cerveja'}), confidence=0.4913793103448276, lift=6.516966980700632)]), RelationRecord(items=frozenset({'cerveja', 'picanha'}), support=0.0386, ordered_statistics=[OrderedStatistic(items_base=frozenset({'cerveja'}), items_add=frozenset({'picanha'}), confidence=0.5119363395225465, lift=5.98056471404844), OrderedStatistic(items_base=frozenset({'picanha'}), items_add=frozenset({'cerveja'}), confidence=0.4509345794392524, lift=5.980564714048441)]), RelationRecord(items=frozenset({'salsicha', 'cerveja'}), support=0.0282, ordered_statistics=[OrderedStatistic(items_base=frozenset({'cerveja'}), items_add=frozenset({'salsicha'}), confidence=0.3740053050397878, lift=5.573849553499072), OrderedStatistic(items_base=frozenset({'salsicha'}), items_add=frozenset({'cerveja'}), confidence=0.42026825633383, lift=5.573849553499072)]), RelationRecord(items=frozenset({'cerveja', 'vodka'}), support=0.012, ordered_statistics=[OrderedStatistic(items_base=frozenset({'vodka'}), items_add=frozenset({'cerveja'}), confidence=0.23952095808383234, lift=3.1766705316158137)]), RelationRecord(items=frozenset({'pizza', 'cerveja artesanal'}), support=0.0201, ordered_statistics=[OrderedStatistic(items_base=frozenset({'cerveja artesanal'}), items_add=frozenset({'pizza'}), confidence=0.3551236749116608, lift=9.082446928686977), OrderedStatistic(items_base=frozenset({'pizza'}), items_add=frozenset({'cerveja artesanal'}), confidence=0.5140664961636828, lift=9.082446928686975)]), RelationRecord(items=frozenset({'refrigerante', 'cerveja artesanal'}), support=0.0152, ordered_statistics=[OrderedStatistic(items_base=frozenset({'cerveja artesanal'}), items_add=frozenset({'refrigerante'}), confidence=0.26855123674911663, lift=4.77849175710172), OrderedStatistic(items_base=frozenset({'refrigerante'}), items_add=frozenset({'cerveja artesanal'}), confidence=0.2704626334519573, lift=4.77849175710172)]), RelationRecord(items=frozenset({'chocolate', 'leite'}), support=0.02, ordered_statistics=[OrderedStatistic(items_base=frozenset({'chocolate'}), items_add=frozenset({'leite'}), confidence=0.5102040816326531, lift=7.216465086741911), OrderedStatistic(items_base=frozenset({'leite'}), items_add=frozenset({'chocolate'}), confidence=0.2828854314002829, lift=7.216465086741911)]), RelationRecord(items=frozenset({'chocolate', 'sorvete'}), support=0.0241, ordered_statistics=[OrderedStatistic(items_base=frozenset({'chocolate'}), items_add=frozenset({'sorvete'}), confidence=0.6147959183673469, lift=10.145147167778003), OrderedStatistic(items_base=frozenset({'sorvete'}), items_add=frozenset({'chocolate'}), confidence=0.3976897689768977, lift=10.145147167778003)]), RelationRecord(items=frozenset({'feijão', 'filé de frango'}), support=0.0204, ordered_statistics=[OrderedStatistic(items_base=frozenset({'filé de frango'}), items_add=frozenset({'feijão'}), confidence=0.5396825396825398, lift=5.260063739595904)]), RelationRecord(items=frozenset({'frango', 'feijão'}), support=0.0363, ordered_statistics=[OrderedStatistic(items_base=frozenset({'feijão'}), items_add=frozenset({'frango'}), confidence=0.3538011695906433, lift=6.25090405637179), OrderedStatistic(items_base=frozenset({'frango'}), items_add=frozenset({'feijão'}), confidence=0.6413427561837456, lift=6.250904056371789)]), RelationRecord(items=frozenset({'salada', 'feijão'}), support=0.0373, ordered_statistics=[OrderedStatistic(items_base=frozenset({'feijão'}), items_add=frozenset({'salada'}), confidence=0.3635477582846004, lift=4.428109114306947), OrderedStatistic(items_base=frozenset({'salada'}), items_add=frozenset({'feijão'}), confidence=0.4543239951278928, lift=4.428109114306947)]), RelationRecord(items=frozenset({'salada', 'filé de frango'}), support=0.0144, ordered_statistics=[OrderedStatistic(items_base=frozenset({'filé de frango'}), items_add=frozenset({'salada'}), confidence=0.38095238095238093, lift=4.640102082245809)]), RelationRecord(items=frozenset({'salada', 'frango'}), support=0.0282, ordered_statistics=[OrderedStatistic(items_base=frozenset({'frango'}), items_add=frozenset({'salada'}), confidence=0.49823321554770317, lift=6.068614074880672), OrderedStatistic(items_base=frozenset({'salada'}), items_add=frozenset({'frango'}), confidence=0.34348355663824603, lift=6.0686140748806725)]), RelationRecord(items=frozenset({'hambúrguer', 'mostarda'}), support=0.011, ordered_statistics=[OrderedStatistic(items_base=frozenset({'hambúrguer'}), items_add=frozenset({'mostarda'}), confidence=0.3160919540229885, lift=6.85665843867654), OrderedStatistic(items_base=frozenset({'mostarda'}), items_add=frozenset({'hambúrguer'}), confidence=0.23861171366594358, lift=6.85665843867654)]), RelationRecord(items=frozenset({'sorvete', 'leite'}), support=0.0165, ordered_statistics=[OrderedStatistic(items_base=frozenset({'leite'}), items_add=frozenset({'sorvete'}), confidence=0.2333804809052334, lift=3.851163051241475), OrderedStatistic(items_base=frozenset({'sorvete'}), items_add=frozenset({'leite'}), confidence=0.2722772277227723, lift=3.851163051241475)]), RelationRecord(items=frozenset({'pão', 'manteiga'}), support=0.0397, ordered_statistics=[OrderedStatistic(items_base=frozenset({'manteiga'}), items_add=frozenset({'pão'}), confidence=0.49937106918238994, lift=4.7786705184917695), OrderedStatistic(items_base=frozenset({'pão'}), items_add=frozenset({'manteiga'}), confidence=0.3799043062200957, lift=4.7786705184917695)]), RelationRecord(items=frozenset({'suco de laranja', 'manteiga'}), support=0.0196, ordered_statistics=[OrderedStatistic(items_base=frozenset({'manteiga'}), items_add=frozenset({'suco de laranja'}), confidence=0.24654088050314465, lift=6.178969436169039), OrderedStatistic(items_base=frozenset({'suco de laranja'}), items_add=frozenset({'manteiga'}), confidence=0.4912280701754386, lift=6.178969436169039)]), RelationRecord(items=frozenset({'salsicha', 'picanha'}), support=0.0255, ordered_statistics=[OrderedStatistic(items_base=frozenset({'picanha'}), items_add=frozenset({'salsicha'}), confidence=0.29789719626168226, lift=4.439600540412552), OrderedStatistic(items_base=frozenset({'salsicha'}), items_add=frozenset({'picanha'}), confidence=0.3800298062593144, lift=4.439600540412552)]), RelationRecord(items=frozenset({'pizza', 'refrigerante'}), support=0.0243, ordered_statistics=[OrderedStatistic(items_base=frozenset({'pizza'}), items_add=frozenset({'refrigerante'}), confidence=0.6214833759590792, lift=11.058423059770092), OrderedStatistic(items_base=frozenset({'refrigerante'}), items_add=frozenset({'pizza'}), confidence=0.43238434163701067, lift=11.058423059770092)]), RelationRecord(items=frozenset({'pão', 'presunto'}), support=0.0494, ordered_statistics=[OrderedStatistic(items_base=frozenset({'presunto'}), items_add=frozenset({'pão'}), confidence=0.44504504504504505, lift=4.258804258804259), OrderedStatistic(items_base=frozenset({'pão'}), items_add=frozenset({'presunto'}), confidence=0.4727272727272727, lift=4.2588042588042585)]), RelationRecord(items=frozenset({'presunto', 'queijo'}), support=0.0576, ordered_statistics=[OrderedStatistic(items_base=frozenset({'presunto'}), items_add=frozenset({'queijo'}), confidence=0.518918918918919, lift=4.243000154692714), OrderedStatistic(items_base=frozenset({'queijo'}), items_add=frozenset({'presunto'}), confidence=0.47097301717089124, lift=4.243000154692714)]), RelationRecord(items=frozenset({'vinho', 'presunto'}), support=0.0192, ordered_statistics=[OrderedStatistic(items_base=frozenset({'vinho'}), items_add=frozenset({'presunto'}), confidence=0.5333333333333333, lift=4.804804804804805)]), RelationRecord(items=frozenset({'presunto', 'vinho branco'}), support=0.0199, ordered_statistics=[OrderedStatistic(items_base=frozenset({'vinho branco'}), items_add=frozenset({'presunto'}), confidence=0.5089514066496164, lift=4.585147807654201)]), RelationRecord(items=frozenset({'vinho tinto', 'presunto'}), support=0.0241, ordered_statistics=[OrderedStatistic(items_base=frozenset({'presunto'}), items_add=frozenset({'vinho tinto'}), confidence=0.21711711711711712, lift=5.219161469161469), OrderedStatistic(items_base=frozenset({'vinho tinto'}), items_add=frozenset({'presunto'}), confidence=0.5793269230769231, lift=5.219161469161469)]), RelationRecord(items=frozenset({'pão', 'queijo'}), support=0.0541, ordered_statistics=[OrderedStatistic(items_base=frozenset({'pão'}), items_add=frozenset({'queijo'}), confidence=0.5177033492822967, lift=4.233060909912483), OrderedStatistic(items_base=frozenset({'queijo'}), items_add=frozenset({'pão'}), confidence=0.4423548650858545, lift=4.233060909912483)]), RelationRecord(items=frozenset({'suco de laranja', 'pão'}), support=0.0245, ordered_statistics=[OrderedStatistic(items_base=frozenset({'pão'}), items_add=frozenset({'suco de laranja'}), confidence=0.23444976076555027, lift=5.87593385377319), OrderedStatistic(items_base=frozenset({'suco de laranja'}), items_add=frozenset({'pão'}), confidence=0.6140350877192983, lift=5.87593385377319)]), RelationRecord(items=frozenset({'vinho', 'pão'}), support=0.0157, ordered_statistics=[OrderedStatistic(items_base=frozenset({'vinho'}), items_add=frozenset({'pão'}), confidence=0.4361111111111111, lift=4.173312068048911)]), RelationRecord(items=frozenset({'pão', 'vinho branco'}), support=0.0161, ordered_statistics=[OrderedStatistic(items_base=frozenset({'vinho branco'}), items_add=frozenset({'pão'}), confidence=0.4117647058823529, lift=3.940332113706727)]), RelationRecord(items=frozenset({'vinho tinto', 'pão'}), support=0.0173, ordered_statistics=[OrderedStatistic(items_base=frozenset({'vinho tinto'}), items_add=frozenset({'pão'}), confidence=0.41586538461538464, lift=3.9795730585204274)]), RelationRecord(items=frozenset({'vinho', 'queijo'}), support=0.0235, ordered_statistics=[OrderedStatistic(items_base=frozenset({'vinho'}), items_add=frozenset({'queijo'}), confidence=0.6527777777777778, lift=5.3375124920505135)]), RelationRecord(items=frozenset({'queijo', 'vinho branco'}), support=0.0261, ordered_statistics=[OrderedStatistic(items_base=frozenset({'queijo'}), items_add=frozenset({'vinho branco'}), confidence=0.2134096484055601, lift=5.45804727379949), OrderedStatistic(items_base=frozenset({'vinho branco'}), items_add=frozenset({'queijo'}), confidence=0.6675191815856777, lift=5.45804727379949)]), RelationRecord(items=frozenset({'vinho tinto', 'queijo'}), support=0.0277, ordered_statistics=[OrderedStatistic(items_base=frozenset({'queijo'}), items_add=frozenset({'vinho tinto'}), confidence=0.22649223221586262, lift=5.444524812881313), OrderedStatistic(items_base=frozenset({'vinho tinto'}), items_add=frozenset({'queijo'}), confidence=0.6658653846153846, lift=5.444524812881313)]), RelationRecord(items=frozenset({'salada', 'tomate'}), support=0.022, ordered_statistics=[OrderedStatistic(items_base=frozenset({'salada'}), items_add=frozenset({'tomate'}), confidence=0.26796589524969544, lift=4.7011560570122), OrderedStatistic(items_base=frozenset({'tomate'}), items_add=frozenset({'salada'}), confidence=0.38596491228070173, lift=4.701156057012201)]), RelationRecord(items=frozenset({'salada', 'vinagre'}), support=0.0131, ordered_statistics=[OrderedStatistic(items_base=frozenset({'vinagre'}), items_add=frozenset({'salada'}), confidence=0.27872340425531916, lift=3.3949257521963356)]), RelationRecord(items=frozenset({'salsicha', 'vodka'}), support=0.0126, ordered_statistics=[OrderedStatistic(items_base=frozenset({'vodka'}), items_add=frozenset({'salsicha'}), confidence=0.25149700598802394, lift=3.7480924886441715)]), RelationRecord(items=frozenset({'vinagre', 'tomate'}), support=0.0101, ordered_statistics=[OrderedStatistic(items_base=frozenset({'vinagre'}), items_add=frozenset({'tomate'}), confidence=0.2148936170212766, lift=3.7700634565136246)])]\n"
     ]
    }
   ],
   "source": [
    "results = list(regras)\n",
    "print(results)"
   ]
  },
  {
   "cell_type": "code",
   "execution_count": 40,
   "metadata": {},
   "outputs": [
    {
     "data": {
      "text/plain": [
       "list"
      ]
     },
     "execution_count": 40,
     "metadata": {},
     "output_type": "execute_result"
    }
   ],
   "source": [
    "type(results)"
   ]
  },
  {
   "cell_type": "code",
   "execution_count": 48,
   "metadata": {},
   "outputs": [
    {
     "ename": "TypeError",
     "evalue": "sequence item 0: expected str instance, RelationRecord found",
     "output_type": "error",
     "traceback": [
      "\u001b[1;31m---------------------------------------------------------------------------\u001b[0m",
      "\u001b[1;31mTypeError\u001b[0m                                 Traceback (most recent call last)",
      "Cell \u001b[1;32mIn[48], line 1\u001b[0m\n\u001b[1;32m----> 1\u001b[0m csv_str \u001b[38;5;241m=\u001b[39m \u001b[38;5;124;43m'\u001b[39;49m\u001b[38;5;124;43m)])\u001b[39;49m\u001b[38;5;124;43m'\u001b[39;49m\u001b[38;5;241;43m.\u001b[39;49m\u001b[43mjoin\u001b[49m\u001b[43m(\u001b[49m\u001b[43mresults\u001b[49m\u001b[43m)\u001b[49m\n\u001b[0;32m      3\u001b[0m \u001b[38;5;28;01mwith\u001b[39;00m \u001b[38;5;28mopen\u001b[39m(\u001b[38;5;124m'\u001b[39m\u001b[38;5;124mresults_apriori.csv\u001b[39m\u001b[38;5;124m'\u001b[39m, \u001b[38;5;124m'\u001b[39m\u001b[38;5;124mw\u001b[39m\u001b[38;5;124m'\u001b[39m) \u001b[38;5;28;01mas\u001b[39;00m csvfile:\n\u001b[0;32m      4\u001b[0m     csvfile\u001b[38;5;241m.\u001b[39mwrite(csv_str)\n",
      "\u001b[1;31mTypeError\u001b[0m: sequence item 0: expected str instance, RelationRecord found"
     ]
    }
   ],
   "source": [
    "csv_str = ')])'.join(results)\n",
    "\n",
    "with open('results_apriori.csv', 'w') as csvfile:\n",
    "    csvfile.write(csv_str)"
   ]
  }
 ],
 "metadata": {
  "kernelspec": {
   "display_name": "Python 3",
   "language": "python",
   "name": "python3"
  },
  "language_info": {
   "codemirror_mode": {
    "name": "ipython",
    "version": 3
   },
   "file_extension": ".py",
   "mimetype": "text/x-python",
   "name": "python",
   "nbconvert_exporter": "python",
   "pygments_lexer": "ipython3",
   "version": "3.12.1"
  }
 },
 "nbformat": 4,
 "nbformat_minor": 2
}
