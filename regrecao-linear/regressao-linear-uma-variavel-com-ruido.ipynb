{
 "cells": [
  {
   "cell_type": "code",
   "execution_count": null,
   "metadata": {},
   "outputs": [],
   "source": [
    "import pandas as pd \n",
    "import matplotlib.pyplot as plt\n",
    "import numpy as np\n",
    "from sklearn.linear_model import LinearRegression\n",
    "from sklearn.metrics import r2_score"
   ]
  },
  {
   "cell_type": "code",
   "execution_count": null,
   "metadata": {},
   "outputs": [],
   "source": [
    "df = pd.read_csv('aluguel_uma_variavel_com_ruido.csv')"
   ]
  },
  {
   "cell_type": "code",
   "execution_count": null,
   "metadata": {},
   "outputs": [],
   "source": [
    "df.head()"
   ]
  },
  {
   "cell_type": "code",
   "execution_count": null,
   "metadata": {},
   "outputs": [],
   "source": [
    "df.describe()"
   ]
  },
  {
   "cell_type": "code",
   "execution_count": null,
   "metadata": {},
   "outputs": [],
   "source": [
    "plt.scatter(df['Area'], df['Preco'])\n",
    "plt.xlabel('Área (m²)')\n",
    "plt.ylabel('Preço do Aluguel (R$)')\n",
    "plt.title('Preço do Aluguel x Área da Casa')\n",
    "plt.show()"
   ]
  },
  {
   "cell_type": "code",
   "execution_count": null,
   "metadata": {},
   "outputs": [],
   "source": [
    "def imprimirDFFormatado(df, titulo):\n",
    "    print(f'Conjunto de {titulo}')\n",
    "    print(df.to_string(index=False))\n",
    "    print(df.shape)\n",
    "    print()\n",
    "\n",
    "def train_test_split(df, test_size, random_state):\n",
    "    df = df.sample(frac=1, random_state=random_state)\n",
    "    n = len(df)\n",
    "    n_teste = int(test_size * n)\n",
    "    teste = df.iloc[:n_teste]\n",
    "    treino = df.iloc[n_teste:]\n",
    "    return treino, teste    "
   ]
  },
  {
   "cell_type": "code",
   "execution_count": null,
   "metadata": {},
   "outputs": [],
   "source": [
    "treino, teste = train_test_split(df, test_size=0.3, random_state=42)\n",
    "x_treino = treino[['Area']].copy()\n",
    "y_treino = treino['Preco']\n",
    "modelo = LinearRegression()\n",
    "modelo.fit(x_treino, y_treino)\n",
    "print(f\"Modelo Linear: y = {modelo.coef_[0]:.2f}x + {modelo.intercept_:.2f}\")"
   ]
  },
  {
   "cell_type": "code",
   "execution_count": null,
   "metadata": {},
   "outputs": [],
   "source": [
    "r2_treino = r2_score(y_treino, modelo.predict(x_treino))\n",
    "print(f'R² treino: {r2_treino:.2f}')\n",
    "\n",
    "plt.figure(figsize=(10, 6))\n",
    "plt.scatter(df['Area'], df['Preco'], color='blue', label='Dados reais')\n",
    "areas = np.linspace(df['Area'].min(), df['Area'].max(), 100)\n",
    "\n",
    "area_df = pd.DataFrame({'Area': areas})\n",
    "plt.plot(areas, modelo.predict(area_df), label = 'Modelo Linear', color = 'red')\n",
    "plt.xlabel('Area')\n",
    "plt.ylabel('Preco')\n",
    "plt.title('Comparação dos Modelos de Regressão Linear')\n",
    "plt.legend()\n",
    "plt.show()"
   ]
  }
 ],
 "metadata": {
  "language_info": {
   "name": "python"
  }
 },
 "nbformat": 4,
 "nbformat_minor": 2
}
